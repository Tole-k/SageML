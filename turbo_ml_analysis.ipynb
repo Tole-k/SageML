{
 "cells": [
  {
   "cell_type": "code",
   "execution_count": null,
   "metadata": {},
   "outputs": [],
   "source": [
    "from turbo_ml.turbo_ml_experimental import TurboML_Experimental\n",
    "from turbo_ml.meta_learning import MetaModelGuesser\n",
    "from datasets import get_iris\n",
    "import pandas as pd\n",
    "from captum.attr import IntegratedGradients\n",
    "\n",
    "pure_data, target = get_iris()\n",
    "data = pure_data.copy()\n",
    "data['target'] = target\n",
    "MODEL_PATH = 'new_model'\n",
    "tbml = TurboML_Experimental(data, 'target', hpo_enabled=False, guesser=MetaModelGuesser(path=MODEL_PATH))\n"
   ]
  },
  {
   "cell_type": "code",
   "execution_count": 2,
   "metadata": {},
   "outputs": [],
   "source": [
    "model = tbml.guesser._meta_model.to('cpu')\n",
    "model.eval()\n",
    "input_data = tbml.guesser.last_input.to('cpu')\n",
    "predictions = model(input_data)[0]\n",
    "target = max(range(len(predictions)), key=predictions.__getitem__)"
   ]
  },
  {
   "cell_type": "code",
   "execution_count": null,
   "metadata": {},
   "outputs": [],
   "source": [
    "names = pd.read_csv('algorithm_results.csv')\n",
    "names.drop('name', axis=1, inplace=True)\n",
    "classifier_name = names.columns[target]\n",
    "print(f'Chosen classifier name: {classifier_name}')"
   ]
  },
  {
   "cell_type": "code",
   "execution_count": null,
   "metadata": {},
   "outputs": [],
   "source": [
    "import numpy as np\n",
    "import matplotlib.pyplot as plt\n",
    "\n",
    "def visualize_importances(feature_names, importances):\n",
    "    plt.figure(figsize=(12,6))\n",
    "    plt.bar(range(len(importances)), importances, align='center')\n",
    "\n",
    "    r_name = zip(range(len(importances)), feature_names)\n",
    "    ticks, names = zip(*filter(lambda x: abs(importances[x[0]]) > 0.001, r_name))\n",
    "\n",
    "    plt.xticks(ticks, names, rotation='vertical')\n",
    "\n",
    "for i in range(36):\n",
    "    target = i\n",
    "    ig = IntegratedGradients(model)\n",
    "    attributions = values = ig.attribute(input_data, target=target)\n",
    "    visualize_importances(list(tbml.dataset_params.keys()), np.mean(attributions.detach().numpy(), axis=0))\n",
    "    _ = plt.title(names.columns[target])"
   ]
  }
 ],
 "metadata": {
  "kernelspec": {
   "display_name": ".venv",
   "language": "python",
   "name": "python3"
  },
  "language_info": {
   "codemirror_mode": {
    "name": "ipython",
    "version": 3
   },
   "file_extension": ".py",
   "mimetype": "text/x-python",
   "name": "python",
   "nbconvert_exporter": "python",
   "pygments_lexer": "ipython3",
   "version": "3.12.8"
  }
 },
 "nbformat": 4,
 "nbformat_minor": 2
}
