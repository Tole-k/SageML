{
 "cells": [
  {
   "cell_type": "code",
   "execution_count": 10,
   "metadata": {},
   "outputs": [],
   "source": [
    "import pandas as pd\n",
    "from sklearn.cluster import KMeans, AgglomerativeClustering, HDBSCAN"
   ]
  },
  {
   "cell_type": "code",
   "execution_count": 11,
   "metadata": {},
   "outputs": [
    {
     "ename": "FileNotFoundError",
     "evalue": "[Errno 2] No such file or directory: 'performance_results.csv'",
     "output_type": "error",
     "traceback": [
      "\u001b[0;31m---------------------------------------------------------------------------\u001b[0m",
      "\u001b[0;31mFileNotFoundError\u001b[0m                         Traceback (most recent call last)",
      "Cell \u001b[0;32mIn[11], line 1\u001b[0m\n\u001b[0;32m----> 1\u001b[0m \u001b[38;5;28;01mwith\u001b[39;00m \u001b[38;5;28;43mopen\u001b[39;49m\u001b[43m(\u001b[49m\u001b[38;5;124;43m'\u001b[39;49m\u001b[38;5;124;43mperformance_results.csv\u001b[39;49m\u001b[38;5;124;43m'\u001b[39;49m\u001b[43m,\u001b[49m\u001b[43m \u001b[49m\u001b[38;5;124;43m'\u001b[39;49m\u001b[38;5;124;43mr\u001b[39;49m\u001b[38;5;124;43m'\u001b[39;49m\u001b[43m)\u001b[49m \u001b[38;5;28;01mas\u001b[39;00m f:\n\u001b[1;32m      2\u001b[0m     results \u001b[38;5;241m=\u001b[39m pd\u001b[38;5;241m.\u001b[39mread_csv(f)\n\u001b[1;32m      3\u001b[0m results \u001b[38;5;241m=\u001b[39m results\u001b[38;5;241m.\u001b[39mdrop(\n\u001b[1;32m      4\u001b[0m     columns\u001b[38;5;241m=\u001b[39mresults\u001b[38;5;241m.\u001b[39mcolumns[\u001b[38;5;241m1\u001b[39m:\u001b[38;5;241m17\u001b[39m])\u001b[38;5;241m.\u001b[39mset_index(\u001b[38;5;124m'\u001b[39m\u001b[38;5;124mname\u001b[39m\u001b[38;5;124m'\u001b[39m)\u001b[38;5;241m.\u001b[39mtranspose()\n",
      "File \u001b[0;32m~/Documents/GitHub/turbo-ml/.venv/lib/python3.12/site-packages/IPython/core/interactiveshell.py:324\u001b[0m, in \u001b[0;36m_modified_open\u001b[0;34m(file, *args, **kwargs)\u001b[0m\n\u001b[1;32m    317\u001b[0m \u001b[38;5;28;01mif\u001b[39;00m file \u001b[38;5;129;01min\u001b[39;00m {\u001b[38;5;241m0\u001b[39m, \u001b[38;5;241m1\u001b[39m, \u001b[38;5;241m2\u001b[39m}:\n\u001b[1;32m    318\u001b[0m     \u001b[38;5;28;01mraise\u001b[39;00m \u001b[38;5;167;01mValueError\u001b[39;00m(\n\u001b[1;32m    319\u001b[0m         \u001b[38;5;124mf\u001b[39m\u001b[38;5;124m\"\u001b[39m\u001b[38;5;124mIPython won\u001b[39m\u001b[38;5;124m'\u001b[39m\u001b[38;5;124mt let you open fd=\u001b[39m\u001b[38;5;132;01m{\u001b[39;00mfile\u001b[38;5;132;01m}\u001b[39;00m\u001b[38;5;124m by default \u001b[39m\u001b[38;5;124m\"\u001b[39m\n\u001b[1;32m    320\u001b[0m         \u001b[38;5;124m\"\u001b[39m\u001b[38;5;124mas it is likely to crash IPython. If you know what you are doing, \u001b[39m\u001b[38;5;124m\"\u001b[39m\n\u001b[1;32m    321\u001b[0m         \u001b[38;5;124m\"\u001b[39m\u001b[38;5;124myou can use builtins\u001b[39m\u001b[38;5;124m'\u001b[39m\u001b[38;5;124m open.\u001b[39m\u001b[38;5;124m\"\u001b[39m\n\u001b[1;32m    322\u001b[0m     )\n\u001b[0;32m--> 324\u001b[0m \u001b[38;5;28;01mreturn\u001b[39;00m \u001b[43mio_open\u001b[49m\u001b[43m(\u001b[49m\u001b[43mfile\u001b[49m\u001b[43m,\u001b[49m\u001b[43m \u001b[49m\u001b[38;5;241;43m*\u001b[39;49m\u001b[43margs\u001b[49m\u001b[43m,\u001b[49m\u001b[43m \u001b[49m\u001b[38;5;241;43m*\u001b[39;49m\u001b[38;5;241;43m*\u001b[39;49m\u001b[43mkwargs\u001b[49m\u001b[43m)\u001b[49m\n",
      "\u001b[0;31mFileNotFoundError\u001b[0m: [Errno 2] No such file or directory: 'performance_results.csv'"
     ]
    }
   ],
   "source": [
    "with open('performance_results.csv', 'r') as f:\n",
    "    results = pd.read_csv(f)\n",
    "results = results.drop(\n",
    "    columns=results.columns[1:17]).set_index('name').transpose()\n",
    "results"
   ]
  },
  {
   "cell_type": "code",
   "execution_count": 3,
   "metadata": {},
   "outputs": [],
   "source": [
    "n = 7"
   ]
  },
  {
   "cell_type": "code",
   "execution_count": 4,
   "metadata": {},
   "outputs": [
    {
     "data": {
      "text/plain": [
       "array([1, 1, 1, 1, 4, 1, 0, 6, 1, 2, 2, 2, 4, 1, 2, 1, 1, 1, 1, 1, 1, 1,\n",
       "       1, 6, 6, 1, 5, 1, 1, 1, 1, 2, 1, 4, 3, 6], dtype=int32)"
      ]
     },
     "execution_count": 4,
     "metadata": {},
     "output_type": "execute_result"
    }
   ],
   "source": [
    "clusterer = KMeans(n_clusters=n)\n",
    "clusters = clusterer.fit_predict(results)\n",
    "clusters"
   ]
  },
  {
   "cell_type": "code",
   "execution_count": 5,
   "metadata": {},
   "outputs": [
    {
     "name": "stdout",
     "output_type": "stream",
     "text": [
      "Cluster 0:\n",
      "Index(['CategoricalNB'], dtype='object')\n",
      "Cluster 1:\n",
      "Index(['NeuralNetworkModel', 'XGBoostClassifier', 'AdaBoostClassifier',\n",
      "       'BaggingClassifier', 'CalibratedClassifierCV', 'DecisionTreeClassifier',\n",
      "       'GaussianProcessClassifier', 'HistGradientBoostingClassifier',\n",
      "       'KNeighborsClassifier', 'LabelPropagation', 'LabelSpreading',\n",
      "       'LinearDiscriminantAnalysis', 'LinearSVC', 'LogisticRegression',\n",
      "       'LogisticRegressionCV', 'NearestCentroid',\n",
      "       'PassiveAggressiveClassifier', 'Perceptron',\n",
      "       'QuadraticDiscriminantAnalysis', 'RadiusNeighborsClassifier',\n",
      "       'RidgeClassifier'],\n",
      "      dtype='object')\n",
      "Cluster 2:\n",
      "Index(['DummyClassifier', 'ExtraTreeClassifier', 'ExtraTreesClassifier',\n",
      "       'GradientBoostingClassifier', 'RandomForestClassifier'],\n",
      "      dtype='object')\n",
      "Cluster 3:\n",
      "Index(['SGDClassifier'], dtype='object')\n",
      "Cluster 4:\n",
      "Index(['BernoulliNB', 'GaussianNB', 'RidgeClassifierCV'], dtype='object')\n",
      "Cluster 5:\n",
      "Index(['NuSVC'], dtype='object')\n",
      "Cluster 6:\n",
      "Index(['ComplementNB', 'MLPClassifier', 'MultinomialNB', 'SVC'], dtype='object')\n"
     ]
    }
   ],
   "source": [
    "for i in range(n):\n",
    "    print(f'Cluster {i}:')\n",
    "    print(results.index[clusters == i])"
   ]
  },
  {
   "cell_type": "code",
   "execution_count": 6,
   "metadata": {},
   "outputs": [
    {
     "data": {
      "text/plain": [
       "array([0, 0, 0, 0, 1, 0, 5, 6, 2, 1, 1, 1, 6, 0, 1, 0, 0, 0, 0, 0, 0, 0,\n",
       "       0, 6, 6, 0, 3, 2, 0, 2, 0, 1, 0, 6, 4, 6])"
      ]
     },
     "execution_count": 6,
     "metadata": {},
     "output_type": "execute_result"
    }
   ],
   "source": [
    "clusterer = AgglomerativeClustering(n_clusters=n)\n",
    "clusters = clusterer.fit_predict(results)\n",
    "clusters"
   ]
  },
  {
   "cell_type": "code",
   "execution_count": 7,
   "metadata": {},
   "outputs": [
    {
     "name": "stdout",
     "output_type": "stream",
     "text": [
      "Cluster 0:\n",
      "Index(['NeuralNetworkModel', 'XGBoostClassifier', 'AdaBoostClassifier',\n",
      "       'BaggingClassifier', 'CalibratedClassifierCV',\n",
      "       'GaussianProcessClassifier', 'HistGradientBoostingClassifier',\n",
      "       'KNeighborsClassifier', 'LabelPropagation', 'LabelSpreading',\n",
      "       'LinearDiscriminantAnalysis', 'LinearSVC', 'LogisticRegression',\n",
      "       'LogisticRegressionCV', 'NearestCentroid', 'Perceptron',\n",
      "       'RadiusNeighborsClassifier', 'RidgeClassifier'],\n",
      "      dtype='object')\n",
      "Cluster 1:\n",
      "Index(['BernoulliNB', 'DummyClassifier', 'ExtraTreeClassifier',\n",
      "       'ExtraTreesClassifier', 'GradientBoostingClassifier',\n",
      "       'RandomForestClassifier'],\n",
      "      dtype='object')\n",
      "Cluster 2:\n",
      "Index(['DecisionTreeClassifier', 'PassiveAggressiveClassifier',\n",
      "       'QuadraticDiscriminantAnalysis'],\n",
      "      dtype='object')\n",
      "Cluster 3:\n",
      "Index(['NuSVC'], dtype='object')\n",
      "Cluster 4:\n",
      "Index(['SGDClassifier'], dtype='object')\n",
      "Cluster 5:\n",
      "Index(['CategoricalNB'], dtype='object')\n",
      "Cluster 6:\n",
      "Index(['ComplementNB', 'GaussianNB', 'MLPClassifier', 'MultinomialNB',\n",
      "       'RidgeClassifierCV', 'SVC'],\n",
      "      dtype='object')\n"
     ]
    }
   ],
   "source": [
    "for i in range(n):\n",
    "    print(f'Cluster {i}:')\n",
    "    print(results.index[clusters == i])"
   ]
  },
  {
   "cell_type": "code",
   "execution_count": 8,
   "metadata": {},
   "outputs": [
    {
     "data": {
      "text/plain": [
       "array([-1, -1, -1, -1, -1, -1, -1, -1, -1, -1, -1, -1, -1, -1, -1, -1, -1,\n",
       "       -1, -1, -1, -1, -1, -1, -1, -1, -1, -1, -1, -1, -1, -1, -1, -1, -1,\n",
       "       -1, -1])"
      ]
     },
     "execution_count": 8,
     "metadata": {},
     "output_type": "execute_result"
    }
   ],
   "source": [
    "clusterer = HDBSCAN()\n",
    "clusters = clusterer.fit_predict(results)\n",
    "clusters"
   ]
  },
  {
   "cell_type": "code",
   "execution_count": 9,
   "metadata": {},
   "outputs": [],
   "source": [
    "for i in range(clusters.max() + 1):\n",
    "    print(f'Cluster {i}:')\n",
    "    print(results.index[clusters == i])"
   ]
  }
 ],
 "metadata": {
  "kernelspec": {
   "display_name": ".venv",
   "language": "python",
   "name": "python3"
  },
  "language_info": {
   "codemirror_mode": {
    "name": "ipython",
    "version": 3
   },
   "file_extension": ".py",
   "mimetype": "text/x-python",
   "name": "python",
   "nbconvert_exporter": "python",
   "pygments_lexer": "ipython3",
   "version": "3.12.3"
  }
 },
 "nbformat": 4,
 "nbformat_minor": 2
}
